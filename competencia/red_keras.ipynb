{
 "cells": [
  {
   "cell_type": "markdown",
   "metadata": {},
   "source": [
    "Este es el primer intento en usar una red neuronal en Keras con todos los datos de `train`"
   ]
  },
  {
   "cell_type": "code",
   "execution_count": 1,
   "metadata": {},
   "outputs": [
    {
     "name": "stderr",
     "output_type": "stream",
     "text": [
      "Using TensorFlow backend.\n"
     ]
    }
   ],
   "source": [
    "%matplotlib inline\n",
    "\n",
    "import pandas as pd\n",
    "import keras\n",
    "import numpy as np\n",
    "import matplotlib.pyplot as plt\n",
    "\n",
    "plt.style.use('seaborn-darkgrid')\n",
    "plt.rc('font', size=12)\n",
    "\n",
    "\n",
    "from matplotlib import rcParams\n",
    "rcParams['figure.figsize'] = 15,6\n",
    "\n",
    "from keras.models import Sequential, Model\n",
    "from keras.layers import Input, Embedding, Dense, Activation, Dropout, Flatten, GRU\n",
    "from keras import regularizers \n",
    "import keras\n",
    "import keras.backend as K\n",
    "from keras.layers.normalization import BatchNormalization\n",
    "from keras.callbacks import EarlyStopping, ModelCheckpoint, TensorBoard, ReduceLROnPlateau\n",
    "\n",
    "from sklearn.preprocessing import MinMaxScaler"
   ]
  },
  {
   "cell_type": "code",
   "execution_count": 2,
   "metadata": {},
   "outputs": [],
   "source": [
    "train = pd.read_csv('nuevo_train.csv', index_col=0, parse_dates=['timestamp'])"
   ]
  },
  {
   "cell_type": "code",
   "execution_count": 3,
   "metadata": {},
   "outputs": [
    {
     "name": "stdout",
     "output_type": "stream",
     "text": [
      "<class 'pandas.core.frame.DataFrame'>\n",
      "Int64Index: 509376 entries, 103088 to 103582\n",
      "Data columns (total 26 columns):\n",
      "timestamp               509376 non-null datetime64[ns]\n",
      "consumption             509376 non-null float64\n",
      "temperature             280687 non-null float64\n",
      "monday_is_day_off       509376 non-null int64\n",
      "tuesday_is_day_off      509376 non-null int64\n",
      "wednesday_is_day_off    509376 non-null int64\n",
      "thursday_is_day_off     509376 non-null int64\n",
      "friday_is_day_off       509376 non-null int64\n",
      "saturday_is_day_off     509376 non-null int64\n",
      "sunday_is_day_off       509376 non-null int64\n",
      "large                   509376 non-null int64\n",
      "medium                  509376 non-null int64\n",
      "small                   509376 non-null int64\n",
      "x-large                 509376 non-null int64\n",
      "x-small                 509376 non-null int64\n",
      "xx-large                509376 non-null int64\n",
      "xx-small                509376 non-null int64\n",
      "high                    509376 non-null int64\n",
      "low                     509376 non-null int64\n",
      "Friday                  509376 non-null int64\n",
      "Monday                  509376 non-null int64\n",
      "Saturday                509376 non-null int64\n",
      "Sunday                  509376 non-null int64\n",
      "Thursday                509376 non-null int64\n",
      "Tuesday                 509376 non-null int64\n",
      "Wednesday               509376 non-null int64\n",
      "dtypes: datetime64[ns](1), float64(2), int64(23)\n",
      "memory usage: 104.9 MB\n"
     ]
    }
   ],
   "source": [
    "train.info()"
   ]
  },
  {
   "cell_type": "code",
   "execution_count": 4,
   "metadata": {},
   "outputs": [],
   "source": [
    "train.drop(['temperature'], axis=1, inplace=True)"
   ]
  },
  {
   "cell_type": "code",
   "execution_count": 5,
   "metadata": {
    "scrolled": true
   },
   "outputs": [],
   "source": [
    "indices = train.index.unique().values\n",
    "indices.sort()"
   ]
  },
  {
   "cell_type": "code",
   "execution_count": 6,
   "metadata": {
    "scrolled": true
   },
   "outputs": [
    {
     "data": {
      "text/html": [
       "<div>\n",
       "<style scoped>\n",
       "    .dataframe tbody tr th:only-of-type {\n",
       "        vertical-align: middle;\n",
       "    }\n",
       "\n",
       "    .dataframe tbody tr th {\n",
       "        vertical-align: top;\n",
       "    }\n",
       "\n",
       "    .dataframe thead th {\n",
       "        text-align: right;\n",
       "    }\n",
       "</style>\n",
       "<table border=\"1\" class=\"dataframe\">\n",
       "  <thead>\n",
       "    <tr style=\"text-align: right;\">\n",
       "      <th></th>\n",
       "      <th>timestamp</th>\n",
       "      <th>consumption</th>\n",
       "      <th>monday_is_day_off</th>\n",
       "      <th>tuesday_is_day_off</th>\n",
       "      <th>wednesday_is_day_off</th>\n",
       "      <th>thursday_is_day_off</th>\n",
       "      <th>friday_is_day_off</th>\n",
       "      <th>saturday_is_day_off</th>\n",
       "      <th>sunday_is_day_off</th>\n",
       "      <th>large</th>\n",
       "      <th>...</th>\n",
       "      <th>xx-small</th>\n",
       "      <th>high</th>\n",
       "      <th>low</th>\n",
       "      <th>Friday</th>\n",
       "      <th>Monday</th>\n",
       "      <th>Saturday</th>\n",
       "      <th>Sunday</th>\n",
       "      <th>Thursday</th>\n",
       "      <th>Tuesday</th>\n",
       "      <th>Wednesday</th>\n",
       "    </tr>\n",
       "    <tr>\n",
       "      <th>series_id</th>\n",
       "      <th></th>\n",
       "      <th></th>\n",
       "      <th></th>\n",
       "      <th></th>\n",
       "      <th></th>\n",
       "      <th></th>\n",
       "      <th></th>\n",
       "      <th></th>\n",
       "      <th></th>\n",
       "      <th></th>\n",
       "      <th></th>\n",
       "      <th></th>\n",
       "      <th></th>\n",
       "      <th></th>\n",
       "      <th></th>\n",
       "      <th></th>\n",
       "      <th></th>\n",
       "      <th></th>\n",
       "      <th></th>\n",
       "      <th></th>\n",
       "      <th></th>\n",
       "    </tr>\n",
       "  </thead>\n",
       "  <tbody>\n",
       "    <tr>\n",
       "      <th>103088</th>\n",
       "      <td>2014-12-24 00:00:00</td>\n",
       "      <td>101842.233424</td>\n",
       "      <td>0</td>\n",
       "      <td>0</td>\n",
       "      <td>0</td>\n",
       "      <td>0</td>\n",
       "      <td>0</td>\n",
       "      <td>1</td>\n",
       "      <td>1</td>\n",
       "      <td>0</td>\n",
       "      <td>...</td>\n",
       "      <td>0</td>\n",
       "      <td>0</td>\n",
       "      <td>1</td>\n",
       "      <td>0</td>\n",
       "      <td>0</td>\n",
       "      <td>0</td>\n",
       "      <td>0</td>\n",
       "      <td>0</td>\n",
       "      <td>0</td>\n",
       "      <td>1</td>\n",
       "    </tr>\n",
       "    <tr>\n",
       "      <th>103088</th>\n",
       "      <td>2014-12-24 01:00:00</td>\n",
       "      <td>105878.048906</td>\n",
       "      <td>0</td>\n",
       "      <td>0</td>\n",
       "      <td>0</td>\n",
       "      <td>0</td>\n",
       "      <td>0</td>\n",
       "      <td>1</td>\n",
       "      <td>1</td>\n",
       "      <td>0</td>\n",
       "      <td>...</td>\n",
       "      <td>0</td>\n",
       "      <td>0</td>\n",
       "      <td>1</td>\n",
       "      <td>0</td>\n",
       "      <td>0</td>\n",
       "      <td>0</td>\n",
       "      <td>0</td>\n",
       "      <td>0</td>\n",
       "      <td>0</td>\n",
       "      <td>1</td>\n",
       "    </tr>\n",
       "    <tr>\n",
       "      <th>103088</th>\n",
       "      <td>2014-12-24 02:00:00</td>\n",
       "      <td>91619.105008</td>\n",
       "      <td>0</td>\n",
       "      <td>0</td>\n",
       "      <td>0</td>\n",
       "      <td>0</td>\n",
       "      <td>0</td>\n",
       "      <td>1</td>\n",
       "      <td>1</td>\n",
       "      <td>0</td>\n",
       "      <td>...</td>\n",
       "      <td>0</td>\n",
       "      <td>0</td>\n",
       "      <td>1</td>\n",
       "      <td>0</td>\n",
       "      <td>0</td>\n",
       "      <td>0</td>\n",
       "      <td>0</td>\n",
       "      <td>0</td>\n",
       "      <td>0</td>\n",
       "      <td>1</td>\n",
       "    </tr>\n",
       "    <tr>\n",
       "      <th>103088</th>\n",
       "      <td>2014-12-24 03:00:00</td>\n",
       "      <td>94473.706203</td>\n",
       "      <td>0</td>\n",
       "      <td>0</td>\n",
       "      <td>0</td>\n",
       "      <td>0</td>\n",
       "      <td>0</td>\n",
       "      <td>1</td>\n",
       "      <td>1</td>\n",
       "      <td>0</td>\n",
       "      <td>...</td>\n",
       "      <td>0</td>\n",
       "      <td>0</td>\n",
       "      <td>1</td>\n",
       "      <td>0</td>\n",
       "      <td>0</td>\n",
       "      <td>0</td>\n",
       "      <td>0</td>\n",
       "      <td>0</td>\n",
       "      <td>0</td>\n",
       "      <td>1</td>\n",
       "    </tr>\n",
       "    <tr>\n",
       "      <th>103088</th>\n",
       "      <td>2014-12-24 04:00:00</td>\n",
       "      <td>96976.755526</td>\n",
       "      <td>0</td>\n",
       "      <td>0</td>\n",
       "      <td>0</td>\n",
       "      <td>0</td>\n",
       "      <td>0</td>\n",
       "      <td>1</td>\n",
       "      <td>1</td>\n",
       "      <td>0</td>\n",
       "      <td>...</td>\n",
       "      <td>0</td>\n",
       "      <td>0</td>\n",
       "      <td>1</td>\n",
       "      <td>0</td>\n",
       "      <td>0</td>\n",
       "      <td>0</td>\n",
       "      <td>0</td>\n",
       "      <td>0</td>\n",
       "      <td>0</td>\n",
       "      <td>1</td>\n",
       "    </tr>\n",
       "    <tr>\n",
       "      <th>103088</th>\n",
       "      <td>2014-12-24 05:00:00</td>\n",
       "      <td>109154.512346</td>\n",
       "      <td>0</td>\n",
       "      <td>0</td>\n",
       "      <td>0</td>\n",
       "      <td>0</td>\n",
       "      <td>0</td>\n",
       "      <td>1</td>\n",
       "      <td>1</td>\n",
       "      <td>0</td>\n",
       "      <td>...</td>\n",
       "      <td>0</td>\n",
       "      <td>0</td>\n",
       "      <td>1</td>\n",
       "      <td>0</td>\n",
       "      <td>0</td>\n",
       "      <td>0</td>\n",
       "      <td>0</td>\n",
       "      <td>0</td>\n",
       "      <td>0</td>\n",
       "      <td>1</td>\n",
       "    </tr>\n",
       "    <tr>\n",
       "      <th>103088</th>\n",
       "      <td>2014-12-24 06:00:00</td>\n",
       "      <td>91909.721222</td>\n",
       "      <td>0</td>\n",
       "      <td>0</td>\n",
       "      <td>0</td>\n",
       "      <td>0</td>\n",
       "      <td>0</td>\n",
       "      <td>1</td>\n",
       "      <td>1</td>\n",
       "      <td>0</td>\n",
       "      <td>...</td>\n",
       "      <td>0</td>\n",
       "      <td>0</td>\n",
       "      <td>1</td>\n",
       "      <td>0</td>\n",
       "      <td>0</td>\n",
       "      <td>0</td>\n",
       "      <td>0</td>\n",
       "      <td>0</td>\n",
       "      <td>0</td>\n",
       "      <td>1</td>\n",
       "    </tr>\n",
       "    <tr>\n",
       "      <th>103088</th>\n",
       "      <td>2014-12-24 07:00:00</td>\n",
       "      <td>100895.387051</td>\n",
       "      <td>0</td>\n",
       "      <td>0</td>\n",
       "      <td>0</td>\n",
       "      <td>0</td>\n",
       "      <td>0</td>\n",
       "      <td>1</td>\n",
       "      <td>1</td>\n",
       "      <td>0</td>\n",
       "      <td>...</td>\n",
       "      <td>0</td>\n",
       "      <td>0</td>\n",
       "      <td>1</td>\n",
       "      <td>0</td>\n",
       "      <td>0</td>\n",
       "      <td>0</td>\n",
       "      <td>0</td>\n",
       "      <td>0</td>\n",
       "      <td>0</td>\n",
       "      <td>1</td>\n",
       "    </tr>\n",
       "    <tr>\n",
       "      <th>103088</th>\n",
       "      <td>2014-12-24 08:00:00</td>\n",
       "      <td>99821.982004</td>\n",
       "      <td>0</td>\n",
       "      <td>0</td>\n",
       "      <td>0</td>\n",
       "      <td>0</td>\n",
       "      <td>0</td>\n",
       "      <td>1</td>\n",
       "      <td>1</td>\n",
       "      <td>0</td>\n",
       "      <td>...</td>\n",
       "      <td>0</td>\n",
       "      <td>0</td>\n",
       "      <td>1</td>\n",
       "      <td>0</td>\n",
       "      <td>0</td>\n",
       "      <td>0</td>\n",
       "      <td>0</td>\n",
       "      <td>0</td>\n",
       "      <td>0</td>\n",
       "      <td>1</td>\n",
       "    </tr>\n",
       "    <tr>\n",
       "      <th>103088</th>\n",
       "      <td>2014-12-24 09:00:00</td>\n",
       "      <td>91215.992196</td>\n",
       "      <td>0</td>\n",
       "      <td>0</td>\n",
       "      <td>0</td>\n",
       "      <td>0</td>\n",
       "      <td>0</td>\n",
       "      <td>1</td>\n",
       "      <td>1</td>\n",
       "      <td>0</td>\n",
       "      <td>...</td>\n",
       "      <td>0</td>\n",
       "      <td>0</td>\n",
       "      <td>1</td>\n",
       "      <td>0</td>\n",
       "      <td>0</td>\n",
       "      <td>0</td>\n",
       "      <td>0</td>\n",
       "      <td>0</td>\n",
       "      <td>0</td>\n",
       "      <td>1</td>\n",
       "    </tr>\n",
       "  </tbody>\n",
       "</table>\n",
       "<p>10 rows × 25 columns</p>\n",
       "</div>"
      ],
      "text/plain": [
       "                    timestamp    consumption  monday_is_day_off  \\\n",
       "series_id                                                         \n",
       "103088    2014-12-24 00:00:00  101842.233424                  0   \n",
       "103088    2014-12-24 01:00:00  105878.048906                  0   \n",
       "103088    2014-12-24 02:00:00   91619.105008                  0   \n",
       "103088    2014-12-24 03:00:00   94473.706203                  0   \n",
       "103088    2014-12-24 04:00:00   96976.755526                  0   \n",
       "103088    2014-12-24 05:00:00  109154.512346                  0   \n",
       "103088    2014-12-24 06:00:00   91909.721222                  0   \n",
       "103088    2014-12-24 07:00:00  100895.387051                  0   \n",
       "103088    2014-12-24 08:00:00   99821.982004                  0   \n",
       "103088    2014-12-24 09:00:00   91215.992196                  0   \n",
       "\n",
       "           tuesday_is_day_off  wednesday_is_day_off  thursday_is_day_off  \\\n",
       "series_id                                                                  \n",
       "103088                      0                     0                    0   \n",
       "103088                      0                     0                    0   \n",
       "103088                      0                     0                    0   \n",
       "103088                      0                     0                    0   \n",
       "103088                      0                     0                    0   \n",
       "103088                      0                     0                    0   \n",
       "103088                      0                     0                    0   \n",
       "103088                      0                     0                    0   \n",
       "103088                      0                     0                    0   \n",
       "103088                      0                     0                    0   \n",
       "\n",
       "           friday_is_day_off  saturday_is_day_off  sunday_is_day_off  large  \\\n",
       "series_id                                                                     \n",
       "103088                     0                    1                  1      0   \n",
       "103088                     0                    1                  1      0   \n",
       "103088                     0                    1                  1      0   \n",
       "103088                     0                    1                  1      0   \n",
       "103088                     0                    1                  1      0   \n",
       "103088                     0                    1                  1      0   \n",
       "103088                     0                    1                  1      0   \n",
       "103088                     0                    1                  1      0   \n",
       "103088                     0                    1                  1      0   \n",
       "103088                     0                    1                  1      0   \n",
       "\n",
       "             ...      xx-small  high  low  Friday  Monday  Saturday  Sunday  \\\n",
       "series_id    ...                                                              \n",
       "103088       ...             0     0    1       0       0         0       0   \n",
       "103088       ...             0     0    1       0       0         0       0   \n",
       "103088       ...             0     0    1       0       0         0       0   \n",
       "103088       ...             0     0    1       0       0         0       0   \n",
       "103088       ...             0     0    1       0       0         0       0   \n",
       "103088       ...             0     0    1       0       0         0       0   \n",
       "103088       ...             0     0    1       0       0         0       0   \n",
       "103088       ...             0     0    1       0       0         0       0   \n",
       "103088       ...             0     0    1       0       0         0       0   \n",
       "103088       ...             0     0    1       0       0         0       0   \n",
       "\n",
       "           Thursday  Tuesday  Wednesday  \n",
       "series_id                                \n",
       "103088            0        0          1  \n",
       "103088            0        0          1  \n",
       "103088            0        0          1  \n",
       "103088            0        0          1  \n",
       "103088            0        0          1  \n",
       "103088            0        0          1  \n",
       "103088            0        0          1  \n",
       "103088            0        0          1  \n",
       "103088            0        0          1  \n",
       "103088            0        0          1  \n",
       "\n",
       "[10 rows x 25 columns]"
      ]
     },
     "execution_count": 6,
     "metadata": {},
     "output_type": "execute_result"
    }
   ],
   "source": [
    "train.head(10)"
   ]
  },
  {
   "cell_type": "markdown",
   "metadata": {},
   "source": [
    "Transforma `consumption` de cada `series_id` en logaritmo natural y luego los normaliza"
   ]
  },
  {
   "cell_type": "code",
   "execution_count": 7,
   "metadata": {},
   "outputs": [],
   "source": [
    "for ind in indices:\n",
    "    valores = train.loc[ind]['consumption'].values\n",
    "    valores = np.log1p(valores)\n",
    "    valores_scaled = MinMaxScaler(feature_range=(-1, 1))\n",
    "    valores = valores_scaled.fit_transform(valores.reshape(-1, 1))\n",
    "    train.loc[ind, 'consumption'] = valores"
   ]
  },
  {
   "cell_type": "code",
   "execution_count": 8,
   "metadata": {
    "scrolled": false
   },
   "outputs": [
    {
     "data": {
      "image/png": "[encoded data removed]",
      "text/plain": [
       "<Figure size 1080x432 with 1 Axes>"
      ]
     },
     "metadata": {
      "needs_background": "light"
     },
     "output_type": "display_data"
    }
   ],
   "source": [
    "plt.figure(figsize=(15,6))\n",
    "plt.plot(train.loc[indices[40],'consumption'].values)\n",
    "plt.show()"
   ]
  },
  {
   "cell_type": "code",
   "execution_count": 9,
   "metadata": {},
   "outputs": [],
   "source": [
    "split = 0.9\n",
    "num_train = int(len(indices) * 0.9)\n",
    "num_test = len(indices) - num_train"
   ]
  },
  {
   "cell_type": "code",
   "execution_count": 10,
   "metadata": {},
   "outputs": [
    {
     "data": {
      "text/plain": [
       "array([103235, 103244, 103245, 103246, 103249, 103261, 103263, 103264,\n",
       "       103266, 103276, 103277, 103278, 103281, 103297, 103298, 103307,\n",
       "       103310, 103320, 103321, 103322, 103324, 103331, 103334, 103346,\n",
       "       103349, 103370, 103373, 103378, 103391, 103397, 103408, 103411,\n",
       "       103412, 103417, 103424, 103425, 103428, 103430, 103432, 103436,\n",
       "       103437, 103442, 103454, 103457, 103465, 103466, 103467, 103493,\n",
       "       103496, 103498, 103501, 103502, 103503, 103510, 103517, 103536,\n",
       "       103544, 103560, 103561, 103568, 103570, 103577, 103582, 103583,\n",
       "       103585, 103595, 103596, 103600, 103605, 103607, 103611, 103621,\n",
       "       103625, 103627, 103633, 103634])"
      ]
     },
     "execution_count": 10,
     "metadata": {},
     "output_type": "execute_result"
    }
   ],
   "source": [
    "indices[-num_test:]"
   ]
  },
  {
   "cell_type": "code",
   "execution_count": 11,
   "metadata": {},
   "outputs": [],
   "source": [
    "train_df = train.loc[indices[:num_train]].copy()\n",
    "test_df = train.loc[indices[-num_test:]].copy()\n",
    "\n",
    "train_df = train_df.set_index('timestamp')\n",
    "test_df = test_df.set_index('timestamp')"
   ]
  },
  {
   "cell_type": "code",
   "execution_count": 12,
   "metadata": {},
   "outputs": [],
   "source": [
    "x_data = train_df.values"
   ]
  },
  {
   "cell_type": "code",
   "execution_count": 13,
   "metadata": {},
   "outputs": [
    {
     "data": {
      "text/plain": [
       "(458304, 24)"
      ]
     },
     "execution_count": 13,
     "metadata": {},
     "output_type": "execute_result"
    }
   ],
   "source": [
    "x_data.shape"
   ]
  },
  {
   "cell_type": "code",
   "execution_count": 14,
   "metadata": {},
   "outputs": [],
   "source": [
    "y_data = train_df.consumption.values\n",
    "y_data = y_data.reshape(-1, 1)"
   ]
  },
  {
   "cell_type": "code",
   "execution_count": 15,
   "metadata": {},
   "outputs": [
    {
     "data": {
      "text/plain": [
       "(458304, 1)"
      ]
     },
     "execution_count": 15,
     "metadata": {},
     "output_type": "execute_result"
    }
   ],
   "source": [
    "y_data.shape"
   ]
  },
  {
   "cell_type": "code",
   "execution_count": 16,
   "metadata": {},
   "outputs": [
    {
     "name": "stdout",
     "output_type": "stream",
     "text": [
      "24\n",
      "1\n"
     ]
    }
   ],
   "source": [
    "num_x_signals = x_data.shape[1]\n",
    "print(num_x_signals)\n",
    "num_y_signals = y_data.shape[1]\n",
    "print(num_y_signals)"
   ]
  },
  {
   "cell_type": "code",
   "execution_count": 17,
   "metadata": {},
   "outputs": [],
   "source": [
    "def batch_generator(batch_size, sequence_length):\n",
    "    \"\"\"\n",
    "    Generator function for creating random batches of training-data.\n",
    "    \"\"\"\n",
    "\n",
    "    # Infinite loop.\n",
    "    while True:\n",
    "        # Allocate a new array for the batch of input-signals.\n",
    "        x_shape = (batch_size, sequence_length, num_x_signals)\n",
    "        x_batch = np.zeros(shape=x_shape, dtype=np.float16)\n",
    "\n",
    "        # Allocate a new array for the batch of output-signals.\n",
    "        y_shape = (batch_size, sequence_length, num_y_signals)\n",
    "        y_batch = np.zeros(shape=y_shape, dtype=np.float16)\n",
    "\n",
    "        # Fill the batch with random sequences of data.\n",
    "        for i in range(batch_size):\n",
    "            # Get a random start-index.\n",
    "            # This points somewhere into the training-data.\n",
    "            idx = np.random.randint(num_train - sequence_length)\n",
    "            \n",
    "            # Copy the sequences of data starting at this index.\n",
    "            x_batch[i] = x_data[idx:idx+sequence_length]\n",
    "            y_batch[i] = y_data[idx:idx+sequence_length]\n",
    "        \n",
    "        yield (x_batch, y_batch)"
   ]
  },
  {
   "cell_type": "code",
   "execution_count": 18,
   "metadata": {},
   "outputs": [
    {
     "data": {
      "text/plain": [
       "168"
      ]
     },
     "execution_count": 18,
     "metadata": {},
     "output_type": "execute_result"
    }
   ],
   "source": [
    "batch_size = 64\n",
    "sequence_length = 24 * 7 * 1\n",
    "sequence_length"
   ]
  },
  {
   "cell_type": "code",
   "execution_count": 19,
   "metadata": {},
   "outputs": [],
   "source": [
    "generator = batch_generator(batch_size=batch_size,\n",
    "                            sequence_length=sequence_length)"
   ]
  },
  {
   "cell_type": "markdown",
   "metadata": {},
   "source": [
    "Aquí se define el modelo de Keras"
   ]
  },
  {
   "cell_type": "code",
   "execution_count": 32,
   "metadata": {},
   "outputs": [],
   "source": [
    "def smape_error(y_true, y_pred):\n",
    "    return K.mean(K.clip(K.abs(y_pred - y_true),  0.0, 1.0), axis=-1)\n",
    "\n",
    "\n",
    "def get_model(num_x_signals, num_y_signals):\n",
    "# Configuración del modelo\n",
    "\n",
    "    dropout = 0.5\n",
    "    regularizer = 0.00004\n",
    "    main_input = Input(shape=(None, num_x_signals,), dtype='float32', name='main_input')\n",
    "    #     site_input = Input(shape=(num_sites,), dtype='float32', name='site_input')\n",
    "    #     access_input = Input(shape=(num_accesses,), dtype='float32', name='access_input')\n",
    "\n",
    "\n",
    "    x0 = main_input\n",
    "    x = Dense(200, activation='relu', \n",
    "              kernel_initializer='lecun_uniform', kernel_regularizer=regularizers.l2(regularizer))(x0)\n",
    "    x = Dropout(dropout)(x)\n",
    "    x = keras.layers.concatenate([x0, x])\n",
    "    x = Dense(200, activation='relu', \n",
    "              kernel_initializer='lecun_uniform', kernel_regularizer=regularizers.l2(regularizer))(x)\n",
    "    x = BatchNormalization(beta_regularizer=regularizers.l2(regularizer),\n",
    "                           gamma_regularizer=regularizers.l2(regularizer)\n",
    "                          )(x)\n",
    "    x = Dropout(dropout)(x)\n",
    "    x = Dense(100, activation='relu', \n",
    "              kernel_initializer='lecun_uniform', kernel_regularizer=regularizers.l2(regularizer))(x)\n",
    "    x = Dropout(dropout)(x)\n",
    "\n",
    "    x = Dense(200, activation='relu', \n",
    "              kernel_initializer='lecun_uniform', kernel_regularizer=regularizers.l2(regularizer))(x)\n",
    "    x = Dropout(dropout)(x)\n",
    "    x = Dense(num_y_signals, activation='linear', \n",
    "              kernel_initializer='lecun_uniform', kernel_regularizer=regularizers.l2(regularizer))(x)\n",
    "\n",
    "    model =  Model(inputs=[main_input], outputs=[x])\n",
    "    model.compile(loss=smape_error, optimizer='adam', metrics=['accuracy'])\n",
    "    return model"
   ]
  },
  {
   "cell_type": "code",
   "execution_count": 33,
   "metadata": {},
   "outputs": [],
   "source": [
    "path_checkpoint = 'primer_modelo.h5'\n",
    "callback_checkpoint = ModelCheckpoint(filepath=path_checkpoint,\n",
    "                                      monitor='val_loss',\n",
    "                                      verbose=1,\n",
    "                                      save_weights_only=True,\n",
    "                                      save_best_only=True)"
   ]
  },
  {
   "cell_type": "code",
   "execution_count": 34,
   "metadata": {},
   "outputs": [],
   "source": [
    "callback_early_stopping = EarlyStopping(monitor='val_loss',\n",
    "                                        patience=3, verbose=1)"
   ]
  },
  {
   "cell_type": "code",
   "execution_count": 35,
   "metadata": {},
   "outputs": [],
   "source": [
    "callback_reduce_lr = ReduceLROnPlateau(monitor='val_loss',\n",
    "                                       factor=0.1,\n",
    "                                       min_lr=1e-4,\n",
    "                                       patience=0,\n",
    "                                       verbose=1)"
   ]
  },
  {
   "cell_type": "code",
   "execution_count": 36,
   "metadata": {},
   "outputs": [],
   "source": [
    "callbacks = [callback_early_stopping,\n",
    "             callback_checkpoint,\n",
    "             callback_reduce_lr]"
   ]
  },
  {
   "cell_type": "code",
   "execution_count": 37,
   "metadata": {},
   "outputs": [],
   "source": [
    "modelo2 = get_model(num_x_signals, num_y_signals)"
   ]
  },
  {
   "cell_type": "code",
   "execution_count": null,
   "metadata": {
    "scrolled": true
   },
   "outputs": [
    {
     "name": "stdout",
     "output_type": "stream",
     "text": [
      "Epoch 1/50\n",
      "100/100 [==============================] - 19s 192ms/step - loss: 0.3677 - acc: 0.0108\n",
      "Epoch 2/50\n",
      "100/100 [==============================] - 19s 188ms/step - loss: 0.1459 - acc: 0.0151\n",
      "Epoch 3/50\n",
      "100/100 [==============================] - 20s 199ms/step - loss: 0.1236 - acc: 0.0151\n",
      "Epoch 4/50\n",
      "100/100 [==============================] - 19s 186ms/step - loss: 0.1106 - acc: 0.0156\n",
      "Epoch 5/50\n",
      "100/100 [==============================] - 18s 185ms/step - loss: 0.1012 - acc: 0.0157\n",
      "Epoch 6/50\n",
      "100/100 [==============================] - 19s 185ms/step - loss: 0.0947 - acc: 0.0152\n",
      "Epoch 7/50\n",
      "100/100 [==============================] - 19s 186ms/step - loss: 0.0899 - acc: 0.0154\n",
      "Epoch 8/50\n",
      "100/100 [==============================] - 19s 185ms/step - loss: 0.0858 - acc: 0.0159\n",
      "Epoch 9/50\n",
      "100/100 [==============================] - 19s 188ms/step - loss: 0.0817 - acc: 0.0157\n",
      "Epoch 10/50\n",
      "100/100 [==============================] - 19s 186ms/step - loss: 0.0785 - acc: 0.0152\n",
      "Epoch 11/50\n",
      "100/100 [==============================] - 19s 194ms/step - loss: 0.0756 - acc: 0.0157\n",
      "Epoch 12/50\n",
      "100/100 [==============================] - 19s 195ms/step - loss: 0.0730 - acc: 0.0155\n",
      "Epoch 13/50\n",
      "100/100 [==============================] - 20s 196ms/step - loss: 0.0709 - acc: 0.0160\n",
      "Epoch 14/50\n",
      "100/100 [==============================] - 20s 198ms/step - loss: 0.0687 - acc: 0.0152\n",
      "Epoch 15/50\n",
      "100/100 [==============================] - 19s 191ms/step - loss: 0.0673 - acc: 0.0158\n",
      "Epoch 16/50\n",
      "100/100 [==============================] - 21s 209ms/step - loss: 0.0655 - acc: 0.0154\n",
      "Epoch 17/50\n",
      "100/100 [==============================] - 20s 196ms/step - loss: 0.0642 - acc: 0.0155\n",
      "Epoch 18/50\n",
      "100/100 [==============================] - 19s 190ms/step - loss: 0.0629 - acc: 0.0158\n",
      "Epoch 19/50\n",
      "100/100 [==============================] - 19s 194ms/step - loss: 0.0617 - acc: 0.0156\n",
      "Epoch 20/50\n",
      "100/100 [==============================] - 19s 191ms/step - loss: 0.0608 - acc: 0.0157\n",
      "Epoch 21/50\n",
      "100/100 [==============================] - 20s 196ms/step - loss: 0.0600 - acc: 0.0155\n",
      "Epoch 22/50\n",
      "100/100 [==============================] - 20s 196ms/step - loss: 0.0593 - acc: 0.0155\n",
      "Epoch 23/50\n",
      "100/100 [==============================] - 19s 188ms/step - loss: 0.0589 - acc: 0.0154\n",
      "Epoch 24/50\n",
      "100/100 [==============================] - 22s 222ms/step - loss: 0.0586 - acc: 0.0155\n",
      "Epoch 25/50\n",
      "100/100 [==============================] - 21s 208ms/step - loss: 0.0576 - acc: 0.0155\n",
      "Epoch 26/50\n",
      "100/100 [==============================] - 22s 216ms/step - loss: 0.0576 - acc: 0.0152\n",
      "Epoch 27/50\n",
      "100/100 [==============================] - 21s 209ms/step - loss: 0.0568 - acc: 0.0153\n",
      "Epoch 28/50\n",
      "100/100 [==============================] - 21s 207ms/step - loss: 0.0565 - acc: 0.0154\n",
      "Epoch 29/50\n",
      "100/100 [==============================] - 22s 221ms/step - loss: 0.0562 - acc: 0.0154\n",
      "Epoch 30/50\n",
      "100/100 [==============================] - 21s 213ms/step - loss: 0.0558 - acc: 0.0152\n",
      "Epoch 31/50\n",
      "100/100 [==============================] - 19s 195ms/step - loss: 0.0556 - acc: 0.0154\n",
      "Epoch 32/50\n",
      "100/100 [==============================] - 23s 230ms/step - loss: 0.0554 - acc: 0.0156\n",
      "Epoch 33/50\n",
      "100/100 [==============================] - 20s 203ms/step - loss: 0.0556 - acc: 0.0155\n",
      "Epoch 34/50\n",
      "100/100 [==============================] - 21s 205ms/step - loss: 0.0550 - acc: 0.0155\n",
      "Epoch 35/50\n",
      "100/100 [==============================] - 20s 200ms/step - loss: 0.0552 - acc: 0.0152\n",
      "Epoch 36/50\n",
      "100/100 [==============================] - 21s 205ms/step - loss: 0.0549 - acc: 0.0155\n",
      "Epoch 37/50\n",
      "100/100 [==============================] - 19s 186ms/step - loss: 0.0550 - acc: 0.0158\n",
      "Epoch 38/50\n",
      "100/100 [==============================] - 21s 212ms/step - loss: 0.0545 - acc: 0.0155\n",
      "Epoch 39/50\n",
      "100/100 [==============================] - 21s 214ms/step - loss: 0.0548 - acc: 0.0153\n",
      "Epoch 40/50\n",
      "100/100 [==============================] - 21s 209ms/step - loss: 0.0544 - acc: 0.0155\n",
      "Epoch 41/50\n",
      "100/100 [==============================] - 21s 209ms/step - loss: 0.0546 - acc: 0.0155\n",
      "Epoch 42/50\n",
      " 20/100 [=====>........................] - ETA: 18s - loss: 0.0541 - acc: 0.0156"
     ]
    }
   ],
   "source": [
    "modelo2.fit_generator(generator=generator, epochs=50, steps_per_epoch=100, callbacks=callbacks, verbose=1)"
   ]
  },
  {
   "cell_type": "code",
   "execution_count": null,
   "metadata": {},
   "outputs": [],
   "source": [
    "# try:\n",
    "#     model2.load_weights(path_checkpoint)\n",
    "# except Exception as error:\n",
    "#     print(\"Error trying to load checkpoint.\")\n",
    "#     print(error)"
   ]
  },
  {
   "cell_type": "code",
   "execution_count": 26,
   "metadata": {},
   "outputs": [],
   "source": [
    "x_test = test_df.values\n",
    "y_test = test_df.consumption.values"
   ]
  },
  {
   "cell_type": "code",
   "execution_count": 29,
   "metadata": {},
   "outputs": [
    {
     "name": "stdout",
     "output_type": "stream",
     "text": [
      "Tamaño de x_test: (1, 51072, 24)\n",
      "Tamaño de y_test: (51072,)\n"
     ]
    }
   ],
   "source": [
    "print('Tamaño de x_test: {}'.format(x_test.shape))\n",
    "print('Tamaño de y_test: {}'.format(y_test.shape))"
   ]
  },
  {
   "cell_type": "code",
   "execution_count": 28,
   "metadata": {},
   "outputs": [
    {
     "name": "stdout",
     "output_type": "stream",
     "text": [
      "(1, 51072, 24)\n"
     ]
    }
   ],
   "source": [
    "x_test = np.expand_dims(x_test, axis=0)\n",
    "print(x_test.shape)\n",
    "\n",
    "result = modelo2.predict(x_test)"
   ]
  },
  {
   "cell_type": "code",
   "execution_count": 29,
   "metadata": {},
   "outputs": [
    {
     "data": {
      "text/plain": [
       "(1, 51072, 1)"
      ]
     },
     "execution_count": 29,
     "metadata": {},
     "output_type": "execute_result"
    }
   ],
   "source": [
    "result.shape"
   ]
  },
  {
   "cell_type": "code",
   "execution_count": null,
   "metadata": {},
   "outputs": [],
   "source": [
    "result = np.squeeze(result, axis=0)"
   ]
  },
  {
   "cell_type": "code",
   "execution_count": null,
   "metadata": {},
   "outputs": [],
   "source": [
    "result.shape"
   ]
  },
  {
   "cell_type": "code",
   "execution_count": null,
   "metadata": {},
   "outputs": [],
   "source": [
    "num_indice = 50\n",
    "\n",
    "plt.plot(result[num_indice * 672:(num_indice + 1) * 672], label='Predicha')\n",
    "plt.plot(y_test[num_indice * 672:(num_indice + 1) * 672], label='Verdadera')\n",
    "plt.legend()\n",
    "plt.show()"
   ]
  },
  {
   "cell_type": "code",
   "execution_count": null,
   "metadata": {},
   "outputs": [],
   "source": []
  }
 ],
 "metadata": {
  "kernelspec": {
   "display_name": "Python 3",
   "language": "python",
   "name": "python3"
  },
  "language_info": {
   "codemirror_mode": {
    "name": "ipython",
    "version": 3
   },
   "file_extension": ".py",
   "mimetype": "text/x-python",
   "name": "python",
   "nbconvert_exporter": "python",
   "pygments_lexer": "ipython3",
   "version": "3.6.6"
  }
 },
 "nbformat": 4,
 "nbformat_minor": 2
}
