{
 "cells": [
  {
   "cell_type": "markdown",
   "metadata": {},
   "source": [
    "This is a test with mathematical formulas:\n",
    "\n",
    "$P(a \\lt X \\lt b) =  \\int_a^b \\mathrm{pdf}(x) \\, dx.$\n",
    "\n",
    "Although it is better in this form, so much better, better even that better, better even that better, better even that better, better even that better:\n",
    "\n",
    "$$P(a \\lt X \\lt b) =  \\int_a^b \\mathrm{pdf}(x) \\, dx.$$\n",
    "\n",
    "More of this just to show the weird space between this line and the equation that follows, in other words, the next equation:\n",
    "\n",
    "$$p(x \\mid a,b) = \n",
    "\\begin{cases} \n",
    "    \\dfrac{1}{b-a} & \\text{for $a \\le x \\le b$,} \\\\ \n",
    "    0 & \\text{for the world.} \n",
    "\\end{cases}$$\n",
    "\n",
    "Pay attention to this line. Pay attention to this line. Pay attention to this line. Pay attention to this line. Pay attention to this line. Pay attention to this line. Pay attention to this line. Pay attention to this line. Pay attention to this line. Pay attention to this line. Pay attention to this line. Pay attention to this line, seriously:\n",
    "\n",
    "$$\n",
    "p(x \\mid a,b) = \n",
    "\\begin{cases} \n",
    "    \\dfrac{1}{b-a} & \\text{for $a \\le x \\le b$,} \\\\\n",
    "     0 & \\text{for the world.} \n",
    "\\end{cases}\n",
    "$$\n",
    "\n",
    "You could expect a weird output if this line is very long, really, really, really, really, really, really, really, really, really, really, really, really, really long.\n",
    "\n",
    "$$p(x \\mid \\mu) = \\dfrac{\\mu^{x} e^{-\\mu}}{x!}.$$\n",
    "\n",
    "This is a sentence, just sentence that should be long. Repeat that several times. Repeat that several times. Repeat that several times.\n",
    "\n",
    "$$f(\\mathbf{x}\\ |\\ \\mu, \\Sigma^{-1}) = (2 \\pi)^{-k/2} |\\Sigma|^{-1/2} \\exp\\left(-\\frac{1}{2} (\\mathbf{x} - \\mu)^{\\top} \\Sigma^{-1} (\\mathbf{x} - \\mu)\\right).$$"
   ]
  },
  {
   "cell_type": "code",
   "execution_count": 2,
   "metadata": {},
   "outputs": [
    {
     "name": "stdout",
     "output_type": "stream",
     "text": [
      "Nothing to see\n"
     ]
    }
   ],
   "source": [
    "print('Nothing to see')"
   ]
  }
 ],
 "metadata": {
  "kernelspec": {
   "display_name": "Python 3",
   "language": "python",
   "name": "python3"
  },
  "language_info": {
   "codemirror_mode": {
    "name": "ipython",
    "version": 3
   },
   "file_extension": ".py",
   "mimetype": "text/x-python",
   "name": "python",
   "nbconvert_exporter": "python",
   "pygments_lexer": "ipython3",
   "version": "3.7.6"
  }
 },
 "nbformat": 4,
 "nbformat_minor": 4
}
